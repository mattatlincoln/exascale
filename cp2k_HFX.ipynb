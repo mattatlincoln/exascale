{
 "cells": [
  {
   "cell_type": "markdown",
   "id": "64d3df28",
   "metadata": {},
   "source": [
    "# 'Exact' exchange in CP2K\n",
    "\n",
    "vanilla implementation in CP2k - there are a bunch of other methods more or less experimental...\n",
    "\n",
    "Main papers are: \n",
    "\n",
    "Minimum Image Convention methodology and main details: [J. Chem. Phys. 128, 214104 (2008)](https://scholar.archive.org/work/2wkry3b47rg3bljth7xb7r36cy/access/wayback/http://www.zora.uzh.ch/id/eprint/3154/4/RP_Guidon_JCP_2008PPV.pdf)\n",
    "\n",
    "and\n",
    "\n",
    "Truncated Coulomb interaction and better periodic implementation: [J. Chem. Theory Comput. 2009, 5, 11, 3010–3021](https://pubs.acs.org/doi/pdf/10.1021/ct900494g)\n",
    "\n",
    "code is available on Github in files with hfx_ prefix e.g.\n",
    "\n",
    "https://github.com/cp2k/cp2k/blob/master/src/hfx_energy_potential.F\n",
    "\n",
    "all in Fortran 2008 standard:\n",
    "https://www.cp2k.org/dev:codingconventions"
   ]
  },
  {
   "cell_type": "markdown",
   "id": "f05954af",
   "metadata": {},
   "source": [
    "# Integral evaluation\n",
    "\n",
    "Integrals are evaluated using the libint library from Valeev (PNNL) (https://github.com/evaleev/libint).\n",
    "\n",
    "$$\n",
    "(\\mu \\nu \\lvert \\lambda \\sigma)_g = \\int d\\mathbf{r}_1 d\\mathbf{r}_2 \\mu(\\mathbf{r}_1) \\nu(\\mathbf{r}_1) g(r_{12}) \\lambda(\\mathbf{r}_2) \\sigma(\\mathbf{r}_2)\n",
    "$$\n",
    "\n",
    "For non-periodic calculation we can use the stand integrals from the libint library, e.g. $g(r_{12}) = \\frac{1}{r_{12}}$. \n",
    "\n",
    "#### Truncated potential\n",
    "\n",
    "For periodic systems with a standard global hybrid functional typically a truncated interaction is used:\n",
    "\n",
    "$$\n",
    "g_{TC}(r_{12}) = \\begin{cases}\n",
    "\\frac{1}{r_{12}},  r_{12} \\le R_c\\\\\n",
    "0, r_{12} \\gt R_c\\\n",
    "\\end{cases}\n",
    "$$\n",
    "\n",
    "this allows a $\\Gamma$ point approximation to the Hartree-Fock energy to be given as:\n",
    "\n",
    "$$\n",
    "E_x^\\Gamma = - \\frac{1}{2} \\sum_{ij} \\int d\\mathbf{r}_1 d\\mathbf{r}_2 \\phi_i^0 (\\mathbf{r}_1) \\phi_j^0 (\\mathbf{r}_1) g(r_{12}) \\phi_i^0 (\\mathbf{r}_2) \\phi_j^0 (\\mathbf{r}_2)\n",
    "$$\n",
    "\n",
    "and in terms of the atomic basis functions:\n",
    "\n",
    "$$\n",
    "E_x^\\Gamma = - \\frac{1}{2} \\sum_{\\lambda \\sigma \\mu \\nu } P^{\\mu \\sigma} P^{\\nu \\lambda} \\sum_{\\mathbf{abc}} (\\mu \\nu^{\\mathbf{a}} \\lvert \\lambda^{\\mathbf{b}} \\sigma ^{\\mathbf{b+c}})_{g_{TC}}\n",
    "$$\n",
    "where $\\mathbf{abc}$ are translations of the unit cell.\n",
    "\n",
    "At the moment the individual terms in the sum are not stored just the sum over the cell vectors...\n",
    "\n",
    "Details of the evaluation of the truncated potential using libint are in the 2009 paper. Ugly but works well..."
   ]
  },
  {
   "cell_type": "markdown",
   "id": "b01aec3e",
   "metadata": {},
   "source": [
    "# Screening\n",
    "\n",
    "heirarchy of methods: \n",
    "\n",
    "Near-field Schwarz screening based on Schwarz equality.\n",
    "\n",
    "Density matrix screening"
   ]
  },
  {
   "cell_type": "markdown",
   "id": "550d3415",
   "metadata": {},
   "source": [
    "# Task lists\n",
    "\n",
    "Setup and loadbalancing are handled using a talk list method. \n",
    "\n",
    "Costs for tasks is quite well estimated. For MD the costs can be updated based on previous MD steps.\n",
    "\n",
    "Load balancing methods are not ideal scaling and turned off for largest systems..."
   ]
  },
  {
   "cell_type": "markdown",
   "id": "5a69503d",
   "metadata": {},
   "source": [
    "# Parallelisation\n",
    "\n",
    "Density and KS matrices are replicated on each MPI process. This makes calculation and contraction of integrals pretty much embarrassingly parallel.\n",
    "\n",
    "For larger systems need to use OpenMP/MPI joint parallelisation to allow eris to be stored in memory."
   ]
  },
  {
   "cell_type": "markdown",
   "id": "caf417f6",
   "metadata": {},
   "source": [
    "# Integral compression\n",
    "\n",
    "Integrals are compressed after summing over images to enable in-core operation.\n",
    "Details in [J. Chem. Phys. 128, 214104 (2008)](https://scholar.archive.org/work/2wkry3b47rg3bljth7xb7r36cy/access/wayback/http://www.zora.uzh.ch/id/eprint/3154/4/RP_Guidon_JCP_2008PPV.pdf)."
   ]
  }
 ],
 "metadata": {
  "kernelspec": {
   "display_name": "Python 3 (ipykernel)",
   "language": "python",
   "name": "python3"
  },
  "language_info": {
   "codemirror_mode": {
    "name": "ipython",
    "version": 3
   },
   "file_extension": ".py",
   "mimetype": "text/x-python",
   "name": "python",
   "nbconvert_exporter": "python",
   "pygments_lexer": "ipython3",
   "version": "3.8.13"
  }
 },
 "nbformat": 4,
 "nbformat_minor": 5
}
